{
 "cells": [
  {
   "cell_type": "markdown",
   "metadata": {},
   "source": [
    "## Урок № 8. Дисперсионный анализ. Логистическая регрессия"
   ]
  },
  {
   "cell_type": "markdown",
   "metadata": {},
   "source": [
    "### Задание № 1.\n",
    "Провести дисперсионный анализ для определения того, есть ли различия среднего роста среди взрослых футболистов, хоккеистов и штангистов. Даны значения роста в трех группах случайно выбранных спортсменов: Футболисты: 173, 175, 180, 178, 177, 185, 183, 182. Хоккеисты: 177, 179, 180, 188, 177, 172, 171, 184, 180. Штангисты: 172, 173, 169, 177, 166, 180, 178, 177, 172, 166, 170."
   ]
  },
  {
   "cell_type": "markdown",
   "metadata": {},
   "source": [
    "**Ответ:**"
   ]
  },
  {
   "cell_type": "code",
   "execution_count": 1,
   "metadata": {},
   "outputs": [],
   "source": [
    "import numpy as np"
   ]
  },
  {
   "cell_type": "code",
   "execution_count": 2,
   "metadata": {},
   "outputs": [
    {
     "data": {
      "text/plain": [
       "array([[  1., 173.],\n",
       "       [  1., 175.],\n",
       "       [  1., 180.],\n",
       "       [  1., 178.],\n",
       "       [  1., 177.],\n",
       "       [  1., 185.],\n",
       "       [  1., 183.],\n",
       "       [  1., 182.]])"
      ]
     },
     "execution_count": 2,
     "metadata": {},
     "output_type": "execute_result"
    }
   ],
   "source": [
    "f = np.array([[1, _] for _ in [173, 175, 180, 178, 177, 185, 183, 182]], dtype=np.float64)\n",
    "h = np.array([[2, _] for _ in [177, 179, 180, 188, 177, 172, 171, 184, 180]], dtype=np.float64)\n",
    "b = np.array([[3, _] for _ in [172, 173, 169, 177, 166, 180, 178, 177, 172, 166, 170]], dtype=np.float64)\n",
    "f"
   ]
  },
  {
   "cell_type": "code",
   "execution_count": 3,
   "metadata": {},
   "outputs": [
    {
     "data": {
      "text/plain": [
       "array([[  1., 173.],\n",
       "       [  1., 175.],\n",
       "       [  1., 180.],\n",
       "       [  1., 178.],\n",
       "       [  1., 177.],\n",
       "       [  1., 185.],\n",
       "       [  1., 183.],\n",
       "       [  1., 182.],\n",
       "       [  2., 177.],\n",
       "       [  2., 179.],\n",
       "       [  2., 180.],\n",
       "       [  2., 188.],\n",
       "       [  2., 177.],\n",
       "       [  2., 172.],\n",
       "       [  2., 171.],\n",
       "       [  2., 184.],\n",
       "       [  2., 180.],\n",
       "       [  3., 172.],\n",
       "       [  3., 173.],\n",
       "       [  3., 169.],\n",
       "       [  3., 177.],\n",
       "       [  3., 166.],\n",
       "       [  3., 180.],\n",
       "       [  3., 178.],\n",
       "       [  3., 177.],\n",
       "       [  3., 172.],\n",
       "       [  3., 166.],\n",
       "       [  3., 170.]])"
      ]
     },
     "execution_count": 3,
     "metadata": {},
     "output_type": "execute_result"
    }
   ],
   "source": [
    "data = np.vstack((f, h, b))\n",
    "data"
   ]
  },
  {
   "cell_type": "code",
   "execution_count": 4,
   "metadata": {},
   "outputs": [
    {
     "data": {
      "text/plain": [
       "(28, 2)"
      ]
     },
     "execution_count": 4,
     "metadata": {},
     "output_type": "execute_result"
    }
   ],
   "source": [
    "data.shape"
   ]
  },
  {
   "cell_type": "code",
   "execution_count": 49,
   "metadata": {},
   "outputs": [],
   "source": [
    "def calc_observable_fisher_criterion(data):\n",
    "    \n",
    "    cat_lst, cat_num = np.unique(data[:, 0], return_counts=True)\n",
    "    y_mean_lst = np.array([data[data[:, 0] == _, 1].mean() for _ in cat_lst])\n",
    "    Y = data[:, 1].mean()\n",
    "    S_square = ((data[:, 1] - Y)**2).sum()\n",
    "    S_square_factoritive = ((y_mean_lst - Y)**2 * cat_num).sum()\n",
    "    S_square_residual = sum([((data[data[:, 0] == _, 1] - dict(zip(cat_lst, y_mean_lst))[_])**2).sum() for _ in cat_lst])\n",
    "    assert round(S_square, 10) == round(S_square_factoritive + S_square_residual, 10)\n",
    "    \n",
    "    D_factoritive = S_square_factoritive / (len(cat_lst) - 1)\n",
    "    D_residual = S_square_residual / (sum(cat_num) - len(cat_lst))\n",
    "    \n",
    "    return D_factoritive / D_residual"
   ]
  },
  {
   "cell_type": "code",
   "execution_count": 6,
   "metadata": {},
   "outputs": [],
   "source": [
    "alpha = 0.05\n",
    "Ft = 3.39"
   ]
  },
  {
   "cell_type": "code",
   "execution_count": 51,
   "metadata": {},
   "outputs": [
    {
     "data": {
      "text/plain": [
       "True"
      ]
     },
     "execution_count": 51,
     "metadata": {},
     "output_type": "execute_result"
    }
   ],
   "source": [
    "Ft < calc_observable_fisher_criterion(data)"
   ]
  },
  {
   "cell_type": "code",
   "execution_count": 160,
   "metadata": {},
   "outputs": [],
   "source": [
    "from scipy import stats"
   ]
  },
  {
   "cell_type": "code",
   "execution_count": 169,
   "metadata": {},
   "outputs": [
    {
     "data": {
      "text/plain": [
       "F_onewayResult(statistic=5.500053450812596, pvalue=0.010482206918698694)"
      ]
     },
     "execution_count": 169,
     "metadata": {},
     "output_type": "execute_result"
    }
   ],
   "source": [
    "stats.f_oneway(f[:, 1], h[:, 1], b[:, 1])"
   ]
  },
  {
   "cell_type": "code",
   "execution_count": 50,
   "metadata": {},
   "outputs": [
    {
     "data": {
      "text/plain": [
       "5.500053450812598"
      ]
     },
     "execution_count": 50,
     "metadata": {},
     "output_type": "execute_result"
    }
   ],
   "source": [
    "calc_observable_fisher_criterion(data)"
   ]
  },
  {
   "cell_type": "markdown",
   "metadata": {},
   "source": [
    "**Вывод:** различия в среднем росте данных категорий спортсменов являются статистически значимыми на уровне значимости 5%."
   ]
  },
  {
   "cell_type": "code",
   "execution_count": null,
   "metadata": {},
   "outputs": [],
   "source": []
  }
 ],
 "metadata": {
  "kernelspec": {
   "display_name": "Python 3",
   "language": "python",
   "name": "python3"
  },
  "language_info": {
   "codemirror_mode": {
    "name": "ipython",
    "version": 3
   },
   "file_extension": ".py",
   "mimetype": "text/x-python",
   "name": "python",
   "nbconvert_exporter": "python",
   "pygments_lexer": "ipython3",
   "version": "3.7.3"
  }
 },
 "nbformat": 4,
 "nbformat_minor": 2
}
